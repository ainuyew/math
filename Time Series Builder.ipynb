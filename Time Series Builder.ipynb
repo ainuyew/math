{
 "cells": [
  {
   "cell_type": "markdown",
   "metadata": {},
   "source": [
    "## Boilerplate Code"
   ]
  },
  {
   "cell_type": "code",
   "execution_count": 3,
   "metadata": {
    "collapsed": false
   },
   "outputs": [],
   "source": [
    "from sympy import *\n",
    "import mpmath as mp\n",
    "import os\n",
    "from pandas.tseries.offsets import BDay, DateOffset, Timestamp, MonthEnd, MonthBegin\n",
    "from datetime import date\n",
    "from scipy.stats import norm\n",
    "from random import random\n",
    "from functools import reduce\n"
   ]
  },
  {
   "cell_type": "markdown",
   "metadata": {},
   "source": [
    "## Variables"
   ]
  },
  {
   "cell_type": "code",
   "execution_count": 16,
   "metadata": {
    "collapsed": false
   },
   "outputs": [],
   "source": [
    "start_date=date(2016,6,18)\n",
    "number_of_observations=509\n",
    "\n",
    "sigma=.2\n",
    "time_step=1/500\n",
    "drift=.1\n",
    "\n",
    "file_header = \"#\\n\"\n",
    "file_header += \"# tsd:TimeSeriesData\\n\"\n",
    "file_header += \"#\\n\"\n",
    "file_header += \"TBL,tsd:TimeSeriesData\\n\"\n",
    "file_header += \"HDR,tsd:id,tsd:name,tsd:save_date,tsd:value_date,tsd:value\\n\"\n",
    "\n",
    "def tocom_product(start_date, n):\n",
    "    candidate = start_date + MonthBegin(n-2) + DateOffset(25) - BDay(1)\n",
    "    if(candidate >= start_date):\n",
    "        return candidate\n",
    "    else:\n",
    "        return start_date + MonthBegin(n-1) + DateOffset(25) - BDay(1)\n",
    "\n",
    "def eom(x, n):\n",
    "    return x - DateOffset(1) + MonthEnd(n)\n",
    "\n",
    "indices=[\n",
    "    {'name':'sVaR_PLT_DATED_BRENT.USD', 'initial price':40, 'suffix':\"lom\", 'number of contracts':18, 'precision':3, 'generate contract':eom}, \n",
    "    {'name':'sVaR_PLT_DUBAI.USD', 'initial price':35, 'suffix':\"lom\", 'number of contracts':18, 'precision':3, 'generate contract':eom}, \n",
    "    {'name':'sVaR_TOCOM_CRUDE_OIL.JPY', 'initial price':40000, 'suffix':\"tocom_crude\", 'number of contracts':6, 'precision':0, 'generate contract':eom}, \n",
    "    {'name':'sVaR_TOCOM_GASOLINE.JPY', 'initial price':35000, 'suffix':\"tocom_product\", 'number of contracts':6, 'precision':0, 'generate contract':tocom_product}]"
   ]
  },
  {
   "cell_type": "markdown",
   "metadata": {},
   "source": [
    "## Functions"
   ]
  },
  {
   "cell_type": "code",
   "execution_count": 19,
   "metadata": {
    "collapsed": false
   },
   "outputs": [],
   "source": [
    "def rand_price(prior_price, prec):\n",
    "    return round(prior_price + prior_price * drift * time_step + sigma * sqrt(time_step) * (random()+random()+random()+random()+random()+random()+random()+random()+random()+random()+random()+random()-6) * prior_price, prec)\n",
    "\n",
    "def rand_prices(initial_price, n, prec):\n",
    "    return reduce(lambda x, y: x + [rand_price(x[-1], prec)], list(range(n)), [initial_price])[1:]\n",
    "\n",
    "def gen_dates(start_date, n):\n",
    "    return reduce(lambda x, y: x + [x[-1] + BDay(-1)], list(range(n)), [start_date])[1:]\n",
    "\n",
    "def gen_fwd_rec(id, name, date, price, offset, gen_contract):\n",
    "    return 'REC,{0},{1},{2},{3},{4}\\n'.format(id, name, date.strftime(\"%Y%m%d\"), gen_contract(date, offset).strftime(\"%Y%m%d\"), price)\n",
    "\n",
    "def gen_fx_rec(id, name, date, price, offset):\n",
    "    return 'REC,{0},{1},{2},{3},{4}\\n'.format(id, name, date.strftime(\"%Y%m%d\"), (date + DateOffset(2 + offset)).strftime(\"%Y%m%d\"), price)"
   ]
  },
  {
   "cell_type": "code",
   "execution_count": 20,
   "metadata": {
    "collapsed": false
   },
   "outputs": [],
   "source": [
    "f = open('ts.csv', 'w')\n",
    "f.write(file_header)\n",
    "\n",
    "for index in indices:\n",
    "    for mth in range(1, index['number of contracts'] + 1):\n",
    "        name = '{0}_@{1}{2}'.format(index['name'], mth, index['suffix'])\n",
    "        ys = zip(gen_dates(start_date, number_of_observations), rand_prices(index['initial price'], number_of_observations, index['precision']))\n",
    "        f.write(reduce(lambda x, y: x + gen_fwd_rec(0, name, y[0], y[1], mth, index['generate contract']), ys, \"\"))\n",
    "\n",
    "for ccy in [('AUD', 1.39, 3), ('SGD', 1.4, 4), ('MYR', 4.4, 5), ('CNY', 6.89, 6), ('JPY', 103, 0), ('GBP', 0.81, 1), ('EUR', 0.96, 2)]:\n",
    "    name = '{0}_{1}'.format('sVaR_SPOT_PRICE', ccy[0])\n",
    "    ys = zip(gen_dates(start_date, number_of_observations), rand_prices(ccy[1], number_of_observations, 3))\n",
    "    f.write(reduce(lambda x, y: x + gen_fx_rec(0, name, y[0], y[1], ccy[2]), ys, \"\"))\n",
    "\n",
    "f.close()"
   ]
  },
  {
   "cell_type": "code",
   "execution_count": null,
   "metadata": {
    "collapsed": true
   },
   "outputs": [],
   "source": []
  }
 ],
 "metadata": {
  "anaconda-cloud": {},
  "kernelspec": {
   "display_name": "Python [default]",
   "language": "python",
   "name": "python3"
  },
  "language_info": {
   "codemirror_mode": {
    "name": "ipython",
    "version": 3
   },
   "file_extension": ".py",
   "mimetype": "text/x-python",
   "name": "python",
   "nbconvert_exporter": "python",
   "pygments_lexer": "ipython3",
   "version": "3.5.2"
  }
 },
 "nbformat": 4,
 "nbformat_minor": 1
}
