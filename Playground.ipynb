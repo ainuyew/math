{
 "cells": [
  {
   "cell_type": "code",
   "execution_count": 46,
   "metadata": {
    "collapsed": false,
    "deletable": true,
    "editable": true
   },
   "outputs": [
    {
     "data": {
      "image/png": "[encoded data removed]",
      "text/latex": [
       "$$\\frac{1.0 CF_{1} N_{2} P_{1} n_{1} + 1.0 CF_{1} N_{2} S_{1} n_{1} + 1.0 CF_{2} N_{1} P_{2} n_{2}}{CF_{1} N_{2} P_{1} n_{1} + CF_{1} N_{2} S_{1} n_{1} + CF_{2} N_{1} \\beta_{2}}$$"
      ],
      "text/plain": [
       "1.0⋅(CF₁⋅N₂⋅P₁⋅n₁ + CF₁⋅N₂⋅S₁⋅n₁ + CF₂⋅N₁⋅P₂⋅n₂)\n",
       "────────────────────────────────────────────────\n",
       "    CF₁⋅N₂⋅P₁⋅n₁ + CF₁⋅N₂⋅S₁⋅n₁ + CF₂⋅N₁⋅β₂     "
      ]
     },
     "execution_count": 46,
     "metadata": {},
     "output_type": "execute_result"
    }
   ],
   "source": [
    "from sympy import *\n",
    "from sympy.stats import *\n",
    "from sympy.abc import *\n",
    "from functools import reduce\n",
    "\n",
    "init_printing()\n",
    "\n",
    "Qty = symbols(\"Qty\")\n",
    "n1, n2, n3, n4 = symbols(\"n_1 n_2 n_3 n_4\")\n",
    "N1, N2, N3, N4 = symbols(\"N_1 N_2 N_3 N_4\")\n",
    "P1, P2, P3, P4 = symbols(\"P_1 P_2 P_3 P_4\")\n",
    "S0, S1, S2, S3, S4 = symbols(\"S_0 S_1 S_2 S_3 S_4\")\n",
    "CF0, CF1, CF2, CF3, CF4 = symbols(\"CF_0 CF_1 CF_2 CF_3 CF_4\")\n",
    "a1, a2, a3, a4 = symbols(\"alpha_1 alpha_2 alpha_3 alpha_4\") \n",
    "b1, b2, b3, b4 = symbols(\"beta_1 beta_2 beta_3 beta_4\") \n",
    "fx_usdjpy, fx_eurjpy = symbols(\"FX_usdjpy FX_eurjpy\")\n",
    "shift = symbols(\"Shift\")\n",
    "\n",
    "def gama(cf, p, s, n): return cf*(p+s)/n\n",
    "\n",
    "def price(cf1, p1, s1, a1, n1, N1, fx, N2, a2, b2, s2, cf2, l): \n",
    "    return 1/4*(gama(cf1, p1, s1, N1)*(a1+n1*fx) + (1/N2*(a2+fx*b2)+S2)*cf2+l)\n",
    "\n",
    "def pv(qty, cf, p, s): \n",
    "    return qty*cf*(p+s)\n",
    "\n",
    "def d(Qty, CF0, CF1, P1, S1, a1, n1, N1, fx_usdjpy, N2, a2, b2, S2, CF2, lamda, S0, s):\n",
    "    up = price(CF1, P1, S1, a1, n1, N1, fx_usdjpy + s, N2, a2, b2, S2, CF2, lamda)\n",
    "    down = price(CF1, P1, S1, a1, n1, N1, fx_usdjpy- s, N2, a2, b2, S2, CF2, lamda)\n",
    "    return (pv(Qty, CF0, up, S0) - pv(Qty, CF0, down, S0))/2\n",
    "\n",
    "pv_base=pv(Qty, CF0, price(CF1, P1, S1, a1, n1, N1, fx_usdjpy, N2, a2, b2, S2, CF2, lamda), S0) \n",
    "p_up=price(CF1, P1, S1, a1, n1, N1, fx_usdjpy+shift, N2, a2, b2, S2, CF2, lamda)\n",
    "p_down=price(CF1, P1, S1, a1, n1, N1, fx_usdjpy-shift, N2, a2, b2, S2, CF2, lamda)\n",
    "pv_up=pv(Qty, CF0, p_up, S0)\n",
    "pv_down=pv(Qty, CF0, p_down, S0)\n",
    "\n",
    "f=d(Qty, CF0, CF1, P1, S1, a1, n1, N1, fx_usdjpy, N2, a2, b2, S2, CF2, lamda, S0, shift)\n",
    "g=simplify(Qty*CF0/4*(n1/N1*(P1+S1)*CF1) + Qty*CF0/4*(n2/N2*(P2)*CF2))\n",
    "collect(simplify(g/f*shift), P1)"
   ]
  },
  {
   "cell_type": "code",
   "execution_count": 41,
   "metadata": {
    "collapsed": false
   },
   "outputs": [
    {
     "data": {
      "image/png": "[encoded data removed]",
      "text/latex": [
       "$$4086.680679979071$$"
      ],
      "text/plain": [
       "4086.680679979071"
      ]
     },
     "execution_count": 41,
     "metadata": {},
     "output_type": "execute_result"
    }
   ],
   "source": [
    "P1=40.213\n",
    "S1=1\n",
    "FX1=113.46766362517641\n",
    "CF1=1\n",
    "\n",
    "P2FX2=4552.6664944317308\n",
    "S2=2\n",
    "CF2=1\n",
    "\n",
    "P3=37123\n",
    "S3=3\n",
    "CF3=.1589873\n",
    "\n",
    "P4=15.125652173913045\n",
    "S4=4\n",
    "FX4=107.79426318536517\n",
    "CF4=.588441\n",
    "\n",
    "1/4*((P1+S1)*FX1*CF1 + (P2FX2+S2)*CF2 + (P3+S3)*CF3+(P4+S4)*FX4*CF4)\n"
   ]
  },
  {
   "cell_type": "code",
   "execution_count": 47,
   "metadata": {
    "collapsed": false
   },
   "outputs": [
    {
     "data": {
      "image/png": "[encoded data removed]",
      "text/latex": [
       "$$3866.096052790909$$"
      ],
      "text/plain": [
       "3866.096052790909"
      ]
     },
     "execution_count": 47,
     "metadata": {},
     "output_type": "execute_result"
    }
   ],
   "source": [
    "FX=113.47\n",
    "P1=40.213\n",
    "S1=1\n",
    "n1=22\n",
    "N1=22\n",
    "CF1=1\n",
    "a1=0\n",
    "\n",
    "S2=2\n",
    "n2=22\n",
    "N2=22\n",
    "CF2=1\n",
    "a2=0\n",
    "b2=40.123\n",
    "\n",
    "P3=37123\n",
    "S3=3\n",
    "CF3=.1589873\n",
    "\n",
    "P4=40.213\n",
    "S4=1\n",
    "n4=22\n",
    "N4=22\n",
    "CF4=1\n",
    "a4=0\n",
    "\n",
    "1/4*((P1+S1)/N1*(a1+n1*FX)*CF1 + (1/N2*(a2+FX*b2)+S2)*CF2 + (P3+S3)*CF3 + (P4+S4)/N4*(a4+n4*FX)*CF4)"
   ]
  },
  {
   "cell_type": "code",
   "execution_count": null,
   "metadata": {
    "collapsed": true
   },
   "outputs": [],
   "source": []
  }
 ],
 "metadata": {
  "anaconda-cloud": {},
  "kernelspec": {
   "display_name": "Python 3",
   "language": "python",
   "name": "python3"
  },
  "language_info": {
   "codemirror_mode": {
    "name": "ipython",
    "version": 3
   },
   "file_extension": ".py",
   "mimetype": "text/x-python",
   "name": "python",
   "nbconvert_exporter": "python",
   "pygments_lexer": "ipython3",
   "version": "3.6.0"
  }
 },
 "nbformat": 4,
 "nbformat_minor": 1
}
