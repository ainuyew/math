{
 "cells": [
  {
   "cell_type": "code",
   "execution_count": 13,
   "metadata": {
    "collapsed": false,
    "deletable": true,
    "editable": true
   },
   "outputs": [
    {
     "name": "stdout",
     "output_type": "stream",
     "text": [
      "IPython console for SymPy 1.0 (Python 3.6.0-32-bit) (ground types: python)\n"
     ]
    }
   ],
   "source": [
    "from sympy import init_session\n",
    "init_session(quiet=True)\n",
    "\n",
    "x0, x1, x2, y0, y1, y2 = symbols('x_0, x_1, x_2, y_0, y_1, y_2')\n",
    "\n",
    "def f(x0, x1, x2, y0, y2): return exp((ln(y2)-ln(y0))*(x1-x0)/(x2-x0)+ln(y0))\n",
    "#y1[x0_,x1_,x2_,y0_,y2_]:= Exp[(Log[y2]-Log[y0])*(x1-x0)/(x2-x0) + Log[y0]]\n",
    "#y1[x0, x1, x2, y0, y2]"
   ]
  },
  {
   "cell_type": "code",
   "execution_count": 22,
   "metadata": {
    "collapsed": false,
    "deletable": true,
    "editable": true
   },
   "outputs": [
    {
     "data": {
      "text/plain": [
       "E ^ (Log[y0] + (-x0 + x1) (Log[y2] - Log[y0]) / (-x0 + x2))"
      ]
     },
     "execution_count": 22,
     "metadata": {},
     "output_type": "execute_result"
    }
   ],
   "source": [
    "y1[x0_,x1_,x2_,y0_,y2_]:= Exp[(Log[y2]-Log[y0])*(x1-x0)/(x2-x0) + Log[y0]]\n",
    "y1[x0, x1, x2, y0, y2]"
   ]
  },
  {
   "cell_type": "code",
   "execution_count": null,
   "metadata": {
    "collapsed": true,
    "deletable": true,
    "editable": true
   },
   "outputs": [],
   "source": []
  }
 ],
 "metadata": {
  "anaconda-cloud": {},
  "kernelspec": {
   "display_name": "mathics",
   "language": "Mathematica",
   "name": "mathics"
  },
  "language_info": {
   "mimetype": "text/x-mathematica",
   "name": "Mathematica",
   "version": "0.9"
  }
 },
 "nbformat": 4,
 "nbformat_minor": 1
}
